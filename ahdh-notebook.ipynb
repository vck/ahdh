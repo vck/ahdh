{
 "cells": [
  {
   "cell_type": "markdown",
   "metadata": {},
   "source": [
    "# about ahdh\n",
    "sistem perekomendasi link berdasarkan user interest.\n",
    "\n",
    "more about [ahdh](http://nodejs-vickydasta.rhcloud.com/catatan-tentang-mesin-perekomendasi/)\n",
    "\n",
    "![ahdh-diagram](ahdh-diagram.jpg)\n",
    "\n",
    "sistem perekomendasi berdasarkan kesamaan interest user.\n",
    "\n",
    "# catatan \n",
    "\n",
    "pada dunia offline (nyata), rekomendasi suatu produk dilakukan dari mulut ke mulut (*words of mouth*),   namun, pada dunia online, konsep words of mouth ditirukan oleh mesin, caranya adalah mencari kemiripan antara 2 pengguna, semakin mirip 1 pengguna dengan pengguna yang lain, maka kemungkinan besar barang yang akan mereka cari di suatu e-comerce akan sama. \n",
    "\n",
    "#### Similarity score \n",
    "\n",
    "ada beberapa cara yang bisa kita lakukan untuk mengetahui seberapa besar kesamaan satu pengguna dengan pengguna yang lain, salah satunya adalah dengan menggunakan *Euclidean distance*.  \n",
    "\n",
    "![euclidean distance](https://wikimedia.org/api/rest_v1/media/math/render/svg/dc0281a964ec758cca02ab9ef91a7f54ac00d4b7)\n",
    "\n",
    "> In mathematics, the Euclidean distance or Euclidean metric is the \"ordinary\" (i.e. straight-line) distance between two points in Euclidean space [1]\n",
    "\n",
    "\n",
    "pada mesin perekomendasi yang akan kita kembangkan kali ini, kita akan menggunakan euclidian similarity pada 1 dimensi.\n",
    "\n",
    "![euclidean distance pada bidang 1 dimensi](https://wikimedia.org/api/rest_v1/media/math/render/svg/40acb4e3dca881674b97303ffabfae6f28e3952e)\n",
    "\n",
    "atau dalam bentuk kode:\n",
    "\n",
    "```\n",
    "from math import (\n",
    "   sqrt,\n",
    "   pow\n",
    ")\n",
    "\n",
    "def euclidean_distance(a, b):\n",
    "   \"\"\"\n",
    "   :type a: int\n",
    "   :type b: int\n",
    "   :rtype: float\n",
    "   \"\"\"\n",
    "   return sqrt(pow(a-b, 2)+pow(b-a, 2))\n",
    "```\n",
    "-----------------\n",
    "```\n",
    "In [34]: euclidean_distance(2,1)\n",
    "Out[34]: 1.4142135623730951\n",
    "```\n",
    "(bersambung)\n",
    "\n",
    "referensi:\n",
    "\n",
    "* [1] [wikipedia](https://en.wikipedia.org/wiki/Euclidean_distance#Squared_Euclidean_distance)\n",
    "\n",
    "kode: [github.com/vickydasta/ahdh](http://github.com/vickydasta/ahdh)\n"
   ]
  },
  {
   "cell_type": "code",
   "execution_count": null,
   "metadata": {
    "collapsed": true
   },
   "outputs": [],
   "source": []
  },
  {
   "cell_type": "markdown",
   "metadata": {},
   "source": [
    "# ahdh-db \n",
    "\n",
    "tabel:\n",
    "\n",
    "* user\n",
    "* product\n",
    "* rating\n",
    "\n",
    "# database schema:\n",
    "\n",
    "## 1. User\n",
    "\n",
    "* id\n",
    "* username\n",
    "\n",
    "## 2. links\n",
    "\n",
    "* link_id\n",
    "* url\n",
    "* category\n",
    "\n",
    "## 3. rating\n",
    "\n",
    "* user_id\n",
    "* product_id\n",
    "* timestamps\n",
    "\n",
    "\n"
   ]
  },
  {
   "cell_type": "code",
   "execution_count": null,
   "metadata": {
    "collapsed": true
   },
   "outputs": [],
   "source": []
  }
 ],
 "metadata": {
  "kernelspec": {
   "display_name": "Python 2",
   "language": "python",
   "name": "python2"
  },
  "language_info": {
   "codemirror_mode": {
    "name": "ipython",
    "version": 2
   },
   "file_extension": ".py",
   "mimetype": "text/x-python",
   "name": "python",
   "nbconvert_exporter": "python",
   "pygments_lexer": "ipython2",
   "version": "2.7.11"
  }
 },
 "nbformat": 4,
 "nbformat_minor": 0
}
